{
 "cells": [
  {
   "cell_type": "markdown",
   "metadata": {},
   "source": [
    "# Classifying YouTube Comments With Differentially Private Gradient Descent"
   ]
  },
  {
   "cell_type": "markdown",
   "metadata": {},
   "source": [
    "Using a collection of over 1000 Youtube comments from popular videos, I will try to differentiate between spam and non-spam using a logistic regression model, gradient descent, and differentially private gradient descent. Once each model has been trained, I will compare the results"
   ]
  },
  {
   "cell_type": "markdown",
   "metadata": {},
   "source": [
    "Comments that are advertising for another channel, video, or website are considered spam"
   ]
  },
  {
   "cell_type": "code",
   "execution_count": 1,
   "metadata": {},
   "outputs": [
    {
     "data": {
      "text/html": [
       "<div>\n",
       "<style scoped>\n",
       "    .dataframe tbody tr th:only-of-type {\n",
       "        vertical-align: middle;\n",
       "    }\n",
       "\n",
       "    .dataframe tbody tr th {\n",
       "        vertical-align: top;\n",
       "    }\n",
       "\n",
       "    .dataframe thead th {\n",
       "        text-align: right;\n",
       "    }\n",
       "</style>\n",
       "<table border=\"1\" class=\"dataframe\">\n",
       "  <thead>\n",
       "    <tr style=\"text-align: right;\">\n",
       "      <th></th>\n",
       "      <th>COMMENT_ID</th>\n",
       "      <th>AUTHOR</th>\n",
       "      <th>DATE</th>\n",
       "      <th>CONTENT</th>\n",
       "      <th>CLASS</th>\n",
       "    </tr>\n",
       "  </thead>\n",
       "  <tbody>\n",
       "    <tr>\n",
       "      <th>0</th>\n",
       "      <td>LZQPQhLyRh80UYxNuaDWhIGQYNQ96IuCg-AYWqNPjpU</td>\n",
       "      <td>Julius NM</td>\n",
       "      <td>2013-11-07T06:20:48</td>\n",
       "      <td>Huh, anyway check out this you[tube] channel: ...</td>\n",
       "      <td>1</td>\n",
       "    </tr>\n",
       "    <tr>\n",
       "      <th>1</th>\n",
       "      <td>LZQPQhLyRh_C2cTtd9MvFRJedxydaVW-2sNg5Diuo4A</td>\n",
       "      <td>adam riyati</td>\n",
       "      <td>2013-11-07T12:37:15</td>\n",
       "      <td>Hey guys check out my new channel and our firs...</td>\n",
       "      <td>1</td>\n",
       "    </tr>\n",
       "    <tr>\n",
       "      <th>2</th>\n",
       "      <td>LZQPQhLyRh9MSZYnf8djyk0gEF9BHDPYrrK-qCczIY8</td>\n",
       "      <td>Evgeny Murashkin</td>\n",
       "      <td>2013-11-08T17:34:21</td>\n",
       "      <td>just for test I have to say murdev.com</td>\n",
       "      <td>1</td>\n",
       "    </tr>\n",
       "    <tr>\n",
       "      <th>3</th>\n",
       "      <td>z13jhp0bxqncu512g22wvzkasxmvvzjaz04</td>\n",
       "      <td>ElNino Melendez</td>\n",
       "      <td>2013-11-09T08:28:43</td>\n",
       "      <td>me shaking my sexy ass on my channel enjoy ^_^ ﻿</td>\n",
       "      <td>1</td>\n",
       "    </tr>\n",
       "    <tr>\n",
       "      <th>4</th>\n",
       "      <td>z13fwbwp1oujthgqj04chlngpvzmtt3r3dw</td>\n",
       "      <td>GsMega</td>\n",
       "      <td>2013-11-10T16:05:38</td>\n",
       "      <td>watch?v=vtaRGgvGtWQ   Check this out .﻿</td>\n",
       "      <td>1</td>\n",
       "    </tr>\n",
       "    <tr>\n",
       "      <th>...</th>\n",
       "      <td>...</td>\n",
       "      <td>...</td>\n",
       "      <td>...</td>\n",
       "      <td>...</td>\n",
       "      <td>...</td>\n",
       "    </tr>\n",
       "    <tr>\n",
       "      <th>1143</th>\n",
       "      <td>LneaDw26bFu3RCmyrWyP9S6wh1h9dBv3X95g1HzKAb4</td>\n",
       "      <td>Dany PK</td>\n",
       "      <td>NaN</td>\n",
       "      <td>SUBSCRIBE TO MY CHANNEL X PLEASE!. SPARE</td>\n",
       "      <td>1</td>\n",
       "    </tr>\n",
       "    <tr>\n",
       "      <th>1144</th>\n",
       "      <td>LneaDw26bFsD65dtIvAEObWYIYnFTqQDKBek_Ypz3J8</td>\n",
       "      <td>SmexyFriedChicken</td>\n",
       "      <td>NaN</td>\n",
       "      <td>Check out my videos guy! :) Hope you guys had ...</td>\n",
       "      <td>1</td>\n",
       "    </tr>\n",
       "    <tr>\n",
       "      <th>1145</th>\n",
       "      <td>LneaDw26bFuvs-8oWkLpAFa6g3QHpWD8k7sbbMP3Bg8</td>\n",
       "      <td>The Guy That's Done Everything</td>\n",
       "      <td>NaN</td>\n",
       "      <td>3 yrs ago I had a health scare but thankfully ...</td>\n",
       "      <td>1</td>\n",
       "    </tr>\n",
       "    <tr>\n",
       "      <th>1146</th>\n",
       "      <td>z12hfp2wmyuqztkw504cgblyxtbsxjuzeow0k</td>\n",
       "      <td>Jesse Pinkman</td>\n",
       "      <td>2015-05-06T11:42:44.601000</td>\n",
       "      <td>Rihanna looks so beautiful with red hair ;)﻿</td>\n",
       "      <td>-1</td>\n",
       "    </tr>\n",
       "    <tr>\n",
       "      <th>1147</th>\n",
       "      <td>z13tsbc5vvn0hdozz04chjt51lq1cvris0k</td>\n",
       "      <td>Gaming Gaming</td>\n",
       "      <td>2015-05-06T10:56:35.972000</td>\n",
       "      <td>857.482.940 views AWESOME !!!!!!!!!!!!!!!!!!!!...</td>\n",
       "      <td>-1</td>\n",
       "    </tr>\n",
       "  </tbody>\n",
       "</table>\n",
       "<p>1148 rows × 5 columns</p>\n",
       "</div>"
      ],
      "text/plain": [
       "                                       COMMENT_ID  \\\n",
       "0     LZQPQhLyRh80UYxNuaDWhIGQYNQ96IuCg-AYWqNPjpU   \n",
       "1     LZQPQhLyRh_C2cTtd9MvFRJedxydaVW-2sNg5Diuo4A   \n",
       "2     LZQPQhLyRh9MSZYnf8djyk0gEF9BHDPYrrK-qCczIY8   \n",
       "3             z13jhp0bxqncu512g22wvzkasxmvvzjaz04   \n",
       "4             z13fwbwp1oujthgqj04chlngpvzmtt3r3dw   \n",
       "...                                           ...   \n",
       "1143  LneaDw26bFu3RCmyrWyP9S6wh1h9dBv3X95g1HzKAb4   \n",
       "1144  LneaDw26bFsD65dtIvAEObWYIYnFTqQDKBek_Ypz3J8   \n",
       "1145  LneaDw26bFuvs-8oWkLpAFa6g3QHpWD8k7sbbMP3Bg8   \n",
       "1146        z12hfp2wmyuqztkw504cgblyxtbsxjuzeow0k   \n",
       "1147          z13tsbc5vvn0hdozz04chjt51lq1cvris0k   \n",
       "\n",
       "                              AUTHOR                        DATE  \\\n",
       "0                          Julius NM         2013-11-07T06:20:48   \n",
       "1                        adam riyati         2013-11-07T12:37:15   \n",
       "2                   Evgeny Murashkin         2013-11-08T17:34:21   \n",
       "3                    ElNino Melendez         2013-11-09T08:28:43   \n",
       "4                             GsMega         2013-11-10T16:05:38   \n",
       "...                              ...                         ...   \n",
       "1143                         Dany PK                         NaN   \n",
       "1144               SmexyFriedChicken                         NaN   \n",
       "1145  The Guy That's Done Everything                         NaN   \n",
       "1146                   Jesse Pinkman  2015-05-06T11:42:44.601000   \n",
       "1147                   Gaming Gaming  2015-05-06T10:56:35.972000   \n",
       "\n",
       "                                                CONTENT  CLASS  \n",
       "0     Huh, anyway check out this you[tube] channel: ...      1  \n",
       "1     Hey guys check out my new channel and our firs...      1  \n",
       "2                just for test I have to say murdev.com      1  \n",
       "3      me shaking my sexy ass on my channel enjoy ^_^ ﻿      1  \n",
       "4               watch?v=vtaRGgvGtWQ   Check this out .﻿      1  \n",
       "...                                                 ...    ...  \n",
       "1143           SUBSCRIBE TO MY CHANNEL X PLEASE!. SPARE      1  \n",
       "1144  Check out my videos guy! :) Hope you guys had ...      1  \n",
       "1145  3 yrs ago I had a health scare but thankfully ...      1  \n",
       "1146       Rihanna looks so beautiful with red hair ;)﻿     -1  \n",
       "1147  857.482.940 views AWESOME !!!!!!!!!!!!!!!!!!!!...     -1  \n",
       "\n",
       "[1148 rows x 5 columns]"
      ]
     },
     "execution_count": 1,
     "metadata": {},
     "output_type": "execute_result"
    }
   ],
   "source": [
    "#import the necessary libraries\n",
    "import pandas as pd\n",
    "import numpy as np\n",
    "import matplotlib.pyplot as plt\n",
    "import itertools\n",
    "\n",
    "from scipy.sparse import csr_matrix\n",
    "from sklearn.linear_model import LogisticRegression\n",
    "# I like to use train_test_split to make the data split easier\n",
    "from sklearn.model_selection import train_test_split\n",
    "# This is used to count words\n",
    "from sklearn.feature_extraction.text import CountVectorizer\n",
    "# this will help compare the performance of each model\n",
    "from sklearn.metrics import accuracy_score, confusion_matrix\n",
    "\n",
    "#used to make the noisy gradient in dp gradient descent\n",
    "def gaussian_mech_vec(vec, sensitivity, epsilon, delta):\n",
    "    return [v + np.random.normal(loc=0, scale=sensitivity * np.sqrt(2*np.log(1.25/delta)) / epsilon)\n",
    "            for v in vec]\n",
    "#used to make the noisy size in dp gradient descent\n",
    "def laplace_mech(v, sensitivity, epsilon):\n",
    "    return v + np.random.laplace(loc=0, scale=sensitivity / epsilon)\n",
    "\n",
    "\n",
    "#load in the data\n",
    "#a sample of 350 random comments from 3 popular videos\n",
    "data1 = pd.read_csv('Youtube01-Psy.csv')\n",
    "data2 = pd.read_csv('Youtube02-KatyPerry.csv')\n",
    "data3 = pd.read_csv('Youtube04-Eminem.csv')\n",
    "#put the data into one frame\n",
    "data = pd.concat([data1,data2,data3],ignore_index = True)\n",
    "#the prediction function used in class works on classification values of -1 and 1.\n",
    "#this data uses 0 and 1\n",
    "#to make this data work with the prediction function, I changed the values to -1 and 1\n",
    "for i in range(data.shape[0]):\n",
    "    if data.iloc[i,4]==0:\n",
    "        data.iloc[i,4]=-1\n",
    "#show the data\n",
    "data"
   ]
  },
  {
   "cell_type": "markdown",
   "metadata": {},
   "source": [
    "# Logistic Regression Model"
   ]
  },
  {
   "cell_type": "markdown",
   "metadata": {},
   "source": [
    "Starting with the prebuilt sklearn model, and using the 'bag-of-words' method to turn the comment content into workable features"
   ]
  },
  {
   "cell_type": "code",
   "execution_count": 3,
   "metadata": {},
   "outputs": [
    {
     "name": "stdout",
     "output_type": "stream",
     "text": [
      "Shape of Data: (1148, 3525)\n"
     ]
    }
   ],
   "source": [
    "#the only feature that I am using is the comment itself\n",
    "X = data.iloc[:,3]\n",
    "y = data.iloc[:,-1]\n",
    "\n",
    "#logistic regression cannot work with a string\n",
    "#so I used this to count how many times each word appears in a new comment\n",
    "#each time a word is used, 1 gets added to that words column\n",
    "#if the word is appearing for the first time, a new column gets added\n",
    "#one feature becomes just over 3500 features, stored in a sparse matrix\n",
    "vectorizer = CountVectorizer()\n",
    "X = vectorizer.fit_transform(X)\n",
    "#but then turn it into an array so that it can be worked with easily further down the line\n",
    "X = X.toarray()\n",
    "\n",
    "\n",
    "X_train, X_test, y_train, y_test = train_test_split(X,y,test_size = .25, random_state = 0)\n",
    "print(\"Shape of Data: \" + str(X.shape))"
   ]
  },
  {
   "cell_type": "code",
   "execution_count": 4,
   "metadata": {},
   "outputs": [
    {
     "name": "stdout",
     "output_type": "stream",
     "text": [
      "0.9372822299651568\n"
     ]
    }
   ],
   "source": [
    "model = LogisticRegression().fit(X_train,y_train)\n",
    "y_pred = model.predict(X_test)\n",
    "print(accuracy_score(y_test, y_pred))"
   ]
  },
  {
   "cell_type": "markdown",
   "metadata": {},
   "source": [
    "This model produces incredibly accurate results"
   ]
  },
  {
   "cell_type": "code",
   "execution_count": 5,
   "metadata": {
    "scrolled": true
   },
   "outputs": [
    {
     "data": {
      "text/html": [
       "<div>\n",
       "<style scoped>\n",
       "    .dataframe tbody tr th:only-of-type {\n",
       "        vertical-align: middle;\n",
       "    }\n",
       "\n",
       "    .dataframe tbody tr th {\n",
       "        vertical-align: top;\n",
       "    }\n",
       "\n",
       "    .dataframe thead th {\n",
       "        text-align: right;\n",
       "    }\n",
       "</style>\n",
       "<table border=\"1\" class=\"dataframe\">\n",
       "  <thead>\n",
       "    <tr style=\"text-align: right;\">\n",
       "      <th></th>\n",
       "      <th>Predicted Normal</th>\n",
       "      <th>Predicted Spam</th>\n",
       "    </tr>\n",
       "  </thead>\n",
       "  <tbody>\n",
       "    <tr>\n",
       "      <th>True Normal</th>\n",
       "      <td>128</td>\n",
       "      <td>2</td>\n",
       "    </tr>\n",
       "    <tr>\n",
       "      <th>True Spam</th>\n",
       "      <td>16</td>\n",
       "      <td>141</td>\n",
       "    </tr>\n",
       "  </tbody>\n",
       "</table>\n",
       "</div>"
      ],
      "text/plain": [
       "             Predicted Normal  Predicted Spam\n",
       "True Normal               128               2\n",
       "True Spam                  16             141"
      ]
     },
     "execution_count": 5,
     "metadata": {},
     "output_type": "execute_result"
    }
   ],
   "source": [
    "conf_mat = confusion_matrix(y_test, y_pred)\n",
    "conf_mat_frame = pd.DataFrame(data = conf_mat)\n",
    "conf_mat_frame.rename(columns={0:'Predicted Normal',1:'Predicted Spam'}, index={0:'True Normal',1:'True Spam'})"
   ]
  },
  {
   "cell_type": "markdown",
   "metadata": {},
   "source": [
    "As you can see in the confusion matrix above, this model shows promising results on the data, with high rates of true-positives and true-negatives"
   ]
  },
  {
   "cell_type": "markdown",
   "metadata": {},
   "source": [
    "# Gradient Descent"
   ]
  },
  {
   "cell_type": "markdown",
   "metadata": {},
   "source": [
    "Now for plain gradient descent, using the functions from class. The predict function had to be slightly modified, it kept predicting a third class, 0, rather than -1 or 1. I beleive that this was most likely due to the amount of 0's in the training and testing data. Because every word is not used in every comment, many samples might have only a handful of columns that actually contain data, while the remaing thousands of columns only contain 0's"
   ]
  },
  {
   "cell_type": "markdown",
   "metadata": {},
   "source": [
    "I also added learning rate(eta) to the gradient descent function, to try and fine tune the results"
   ]
  },
  {
   "cell_type": "code",
   "execution_count": 6,
   "metadata": {},
   "outputs": [],
   "source": [
    "def loss(theta, xi, yi):\n",
    "    exponent = - yi * (xi.dot(theta))\n",
    "    return np.log(1 + np.exp(exponent))\n",
    "\n",
    "\n",
    "def gradient(theta, xi, yi):\n",
    "    exponent = yi * (xi.dot(theta))\n",
    "    return - (yi*xi) / (1+np.exp(exponent))\n",
    "\n",
    "def avg_grad(theta, X, y):\n",
    "    list_of_gradients = [gradient(theta, x_i, y_i) for x_i, y_i in zip(X,y)]\n",
    "    return np.mean(list_of_gradients, axis = 0)\n",
    "\n",
    "def gradient_descent(iterations):\n",
    "    theta = np.zeros(X_train.shape[1])\n",
    "    for i in range(iterations):\n",
    "        avg_gradient = avg_grad(theta, X_train, y_train)\n",
    "        theta = theta - (avg_gradient)\n",
    "    return theta\n",
    "\n",
    "def predict(xi, theta, bias=0):\n",
    "    label = np.sign(xi @ theta + bias)\n",
    "    #predict sometimes returns a 0 rather than -1 or 1\n",
    "    for i in range(len(label)):\n",
    "        #if it tries to predict a 0\n",
    "        if label[i] == 0:\n",
    "            #flip it to a -1\n",
    "            label[i] = -1\n",
    "            #im not sure if this is the correct way to handle something like this, as it will change the \n",
    "            #outcome, but it seemed better to assume that an indeterminate comment is not spam\n",
    "    return label\n",
    "\n",
    "def accuracy(theta):\n",
    "    return np.sum(predict(X_test, theta) == y_test)/X_test.shape[0]\n"
   ]
  },
  {
   "cell_type": "code",
   "execution_count": 7,
   "metadata": {},
   "outputs": [
    {
     "name": "stdout",
     "output_type": "stream",
     "text": [
      "Gradient Descent Accuracy: 0.7386759581881533\n",
      "[ 0.00116144 -0.00232288 -0.00058072 ...  0.          0.\n",
      "  0.        ]\n",
      "Gradient Descent Accuracy: 0.8710801393728222\n",
      "[ 0.00310332 -0.06172613 -0.00493127 ...  0.          0.\n",
      "  0.        ]\n",
      "Gradient Descent Accuracy: 0.9128919860627178\n",
      "[ 0.02254858 -0.27292906 -0.01623813 ...  0.          0.\n",
      "  0.        ]\n"
     ]
    }
   ],
   "source": [
    "GD_results = []\n",
    "#1 iteration\n",
    "theta = gradient_descent(1)\n",
    "print(\"Gradient Descent Accuracy: \" + str(accuracy(theta)))\n",
    "GD_results.append(accuracy(theta))\n",
    "print(theta)\n",
    "\n",
    "#10 iterations\n",
    "theta = gradient_descent(10)\n",
    "print(\"Gradient Descent Accuracy: \" + str(accuracy(theta)))\n",
    "GD_results.append(accuracy(theta))\n",
    "print(theta)\n",
    "\n",
    "#20 iterations\n",
    "theta = gradient_descent(20)\n",
    "GD_results.append(accuracy(theta))\n",
    "\n",
    "\n",
    "#30 iterations\n",
    "theta = gradient_descent(30)\n",
    "GD_results.append(accuracy(theta))\n",
    "\n",
    "\n",
    "#60 iterations. I found this to produce the best results\n",
    "#anything more decreased accuracy, most likely due to overfitting\n",
    "theta = gradient_descent(60)\n",
    "print(\"Gradient Descent Accuracy: \" + str(accuracy(theta)))\n",
    "GD_results.append(accuracy(theta))\n",
    "print(theta)\n",
    "\n"
   ]
  },
  {
   "cell_type": "markdown",
   "metadata": {},
   "source": [
    "Gradient descent with 60 iterations seems to produce the best results, and is nearly as accurate as the sklearn model used above"
   ]
  },
  {
   "cell_type": "code",
   "execution_count": 8,
   "metadata": {},
   "outputs": [
    {
     "data": {
      "text/html": [
       "<div>\n",
       "<style scoped>\n",
       "    .dataframe tbody tr th:only-of-type {\n",
       "        vertical-align: middle;\n",
       "    }\n",
       "\n",
       "    .dataframe tbody tr th {\n",
       "        vertical-align: top;\n",
       "    }\n",
       "\n",
       "    .dataframe thead th {\n",
       "        text-align: right;\n",
       "    }\n",
       "</style>\n",
       "<table border=\"1\" class=\"dataframe\">\n",
       "  <thead>\n",
       "    <tr style=\"text-align: right;\">\n",
       "      <th></th>\n",
       "      <th>Predicted Normal</th>\n",
       "      <th>Predicted Spam</th>\n",
       "    </tr>\n",
       "  </thead>\n",
       "  <tbody>\n",
       "    <tr>\n",
       "      <th>True Normal</th>\n",
       "      <td>119</td>\n",
       "      <td>11</td>\n",
       "    </tr>\n",
       "    <tr>\n",
       "      <th>True Spam</th>\n",
       "      <td>14</td>\n",
       "      <td>143</td>\n",
       "    </tr>\n",
       "  </tbody>\n",
       "</table>\n",
       "</div>"
      ],
      "text/plain": [
       "             Predicted Normal  Predicted Spam\n",
       "True Normal               119              11\n",
       "True Spam                  14             143"
      ]
     },
     "execution_count": 8,
     "metadata": {},
     "output_type": "execute_result"
    }
   ],
   "source": [
    "y_pred = predict(X_test, theta)\n",
    "\n",
    "conf_mat = confusion_matrix(y_test, y_pred)\n",
    "conf_mat_frame = pd.DataFrame(data = conf_mat)\n",
    "conf_mat_frame.rename(columns={0:'Predicted Normal',1:'Predicted Spam'}, index={0:'True Normal',1:'True Spam'})"
   ]
  },
  {
   "cell_type": "markdown",
   "metadata": {},
   "source": [
    "The results are not identical to the results of the logistic regression model, but gradient descent still has very high ratios of true positives and negatives"
   ]
  },
  {
   "cell_type": "markdown",
   "metadata": {},
   "source": [
    "# Differentially Private Gradient Descent"
   ]
  },
  {
   "cell_type": "markdown",
   "metadata": {},
   "source": [
    "Finally, I will use the vectorized gaussian function, L2 clipping, and the functions from plain gradient descent to classify the comments with gradient descent that satisfies $(\\epsilon, \\delta)$ - differential privacy using sequential composition"
   ]
  },
  {
   "cell_type": "code",
   "execution_count": 9,
   "metadata": {},
   "outputs": [],
   "source": [
    "#DP gradient descent functions\n",
    "#this function is used to bound the L2 sensitivity\n",
    "def L2_clip(v, b):\n",
    "    #Find the vector v's L2 norm\n",
    "    norm = np.linalg.norm(v, ord=2)\n",
    "    if norm > b:\n",
    "        #divide v by its l2 norm, scale it back up to param b\n",
    "        return b * (v / norm)\n",
    "    else:\n",
    "        return v\n",
    "\n",
    "    \n",
    "def gradient_sum(theta, X, y, b):\n",
    "    #gradient is found by using plain GD gradient function, then L2 clipping it\n",
    "    gradients = [L2_clip(gradient(theta, x_i, y_i), b) for x_i, y_i in zip(X,y)]\n",
    "    #return the sum of the L2 clipped gradient\n",
    "    return np.sum(gradients, axis=0)\n",
    "\n",
    "    \n",
    "def noisy_gradient_descent(iterations, epsilon, delta):\n",
    "    theta = np.zeros(X_train.shape[1])\n",
    "    #clipping param\n",
    "    b = 4\n",
    "    #epsilon is divided by iterations+1, because it is used iterations+1 times.\n",
    "    #by doing this we ensure epsilon/delta DP through sequential comp\n",
    "    epsilon_i = epsilon/(iterations+1)\n",
    "    #same is done to delta, it is only used iterations #of times\n",
    "    delta_i = delta/iterations\n",
    "    #counting query, laplace mech is used to add noise\n",
    "    dataset_size = len(X_train)\n",
    "    #epsilon is used 1 time here\n",
    "    noisy_size = laplace_mech(dataset_size, 1, epsilon_i)\n",
    "    for i in range(iterations):\n",
    "        #get the gradient sum using gradient sum function above\n",
    "        grad_sum = gradient_sum(theta, X_train, y_train, b)\n",
    "        #add noise to the gradient sum using vectorized gaussian mechanism\n",
    "        noisy_grad_sum = gaussian_mech_vec(grad_sum, b, epsilon_i, delta_i)\n",
    "        #avg gradient is found here by dividing the noisy gradient sum by the noisy size of the dataset\n",
    "        noisy_avg_grad = np.array(noisy_grad_sum) / noisy_size\n",
    "        #update theta\n",
    "        theta = theta - noisy_avg_grad\n",
    "    return theta"
   ]
  },
  {
   "cell_type": "code",
   "execution_count": 11,
   "metadata": {},
   "outputs": [
    {
     "name": "stdout",
     "output_type": "stream",
     "text": [
      "DP Gradient Descent Accuracy: 0.6968641114982579\n",
      "[-0.00616075  0.00475035 -0.03210255 ...  0.04353764  0.00467656\n",
      "  0.04483389]\n",
      "DP Gradient Descent Accuracy: 0.5749128919860628\n",
      "[ 0.50820622 -1.12441671  0.04407067 ... -1.03262445 -0.45489567\n",
      " -0.38251876]\n",
      "Gradient Descent Accuracy: 0.578397212543554\n",
      "[ -5.38765466 -21.95125115   2.41446005 ...   5.36713486   9.61606424\n",
      " -13.95324515]\n"
     ]
    }
   ],
   "source": [
    "DPGD_results = []\n",
    "#for comparison, ive included calls with the same iterations\n",
    "theta = noisy_gradient_descent(1, 1.0, 1e-5)\n",
    "print(\"DP Gradient Descent Accuracy: \" + str(accuracy(theta)))\n",
    "DPGD_results.append(accuracy(theta))\n",
    "print(theta)\n",
    "\n",
    "#10 iterations\n",
    "theta = noisy_gradient_descent(10, 1.0, 1e-5)\n",
    "print(\"DP Gradient Descent Accuracy: \" + str(accuracy(theta)))\n",
    "DPGD_results.append(accuracy(theta))\n",
    "print(theta)\n",
    "\n",
    "#20 iterations\n",
    "theta = noisy_gradient_descent(20, 1.0, 1e-5)\n",
    "DPGD_results.append(accuracy(theta))\n",
    "\n",
    "\n",
    "#30 iterations\n",
    "theta = noisy_gradient_descent(30, 1.0, 1e-5)\n",
    "DPGD_results.append(accuracy(theta))\n",
    "\n",
    "\n",
    "theta = noisy_gradient_descent(60, 1.0, 1e-5)\n",
    "print(\"Gradient Descent Accuracy: \" + str(accuracy(theta)))\n",
    "DPGD_results.append(accuracy(theta))\n",
    "print(theta)"
   ]
  },
  {
   "cell_type": "markdown",
   "metadata": {},
   "source": [
    "Results are all worse than their plain gradient descent counterparts. This is most likely due to the scale of the noise and number of iterations. To satisfy $(\\epsilon, \\delta)$ - differenial privacy, DP gradient descent is using $\\epsilon$/iterations per iteration, resulting in a very small epsilon for high iterations. A high number of iterations also allows for DP gradient descent to easily start to converge in the wrong direction, which returns poor results."
   ]
  },
  {
   "cell_type": "code",
   "execution_count": 12,
   "metadata": {},
   "outputs": [
    {
     "data": {
      "text/html": [
       "<div>\n",
       "<style scoped>\n",
       "    .dataframe tbody tr th:only-of-type {\n",
       "        vertical-align: middle;\n",
       "    }\n",
       "\n",
       "    .dataframe tbody tr th {\n",
       "        vertical-align: top;\n",
       "    }\n",
       "\n",
       "    .dataframe thead th {\n",
       "        text-align: right;\n",
       "    }\n",
       "</style>\n",
       "<table border=\"1\" class=\"dataframe\">\n",
       "  <thead>\n",
       "    <tr style=\"text-align: right;\">\n",
       "      <th></th>\n",
       "      <th>Predicted Normal</th>\n",
       "      <th>Predicted Spam</th>\n",
       "    </tr>\n",
       "  </thead>\n",
       "  <tbody>\n",
       "    <tr>\n",
       "      <th>True Normal</th>\n",
       "      <td>60</td>\n",
       "      <td>70</td>\n",
       "    </tr>\n",
       "    <tr>\n",
       "      <th>True Spam</th>\n",
       "      <td>51</td>\n",
       "      <td>106</td>\n",
       "    </tr>\n",
       "  </tbody>\n",
       "</table>\n",
       "</div>"
      ],
      "text/plain": [
       "             Predicted Normal  Predicted Spam\n",
       "True Normal                60              70\n",
       "True Spam                  51             106"
      ]
     },
     "execution_count": 12,
     "metadata": {},
     "output_type": "execute_result"
    }
   ],
   "source": [
    "y_pred = predict(X_test, theta)\n",
    "\n",
    "conf_mat = confusion_matrix(y_test, y_pred)\n",
    "conf_mat_frame = pd.DataFrame(data = conf_mat)\n",
    "conf_mat_frame.rename(columns={0:'Predicted Normal',1:'Predicted Spam'}, index={0:'True Normal',1:'True Spam'})"
   ]
  },
  {
   "cell_type": "code",
   "execution_count": 13,
   "metadata": {},
   "outputs": [
    {
     "data": {
      "image/png": "[encoded data removed]",
      "text/plain": [
       "<Figure size 432x288 with 1 Axes>"
      ]
     },
     "metadata": {
      "needs_background": "light"
     },
     "output_type": "display_data"
    }
   ],
   "source": [
    "#plot GD vs DPGD results\n",
    "iterations = [1,10,20,30,60]\n",
    "plt.plot(iterations,GD_results)\n",
    "plt.plot(iterations,DPGD_results)\n",
    "plt.axis([1,60,.5,1])\n",
    "plt.ylabel('Accuracy')\n",
    "plt.xlabel('Iterations')\n",
    "plt.title('Accuracy of GD vs. DPGD')\n",
    "plt.show()"
   ]
  },
  {
   "cell_type": "markdown",
   "metadata": {},
   "source": [
    "To try to get slightly better results, I will use a higher epsilon. This will have a higher privacy cost, but will return better results"
   ]
  },
  {
   "cell_type": "code",
   "execution_count": 14,
   "metadata": {},
   "outputs": [
    {
     "name": "stdout",
     "output_type": "stream",
     "text": [
      "DP Gradient Descent Accuracy: 0.5296167247386759\n",
      "[ 0.35372438  0.01923432 -0.11506424 ...  0.04729125  0.23611801\n",
      " -0.22149269]\n",
      "DP Gradient Descent Accuracy: 0.6585365853658537\n",
      "[ 1.36511916 -0.11419661 -0.689384   ... -0.90675023 -0.42137875\n",
      " -0.49376371]\n",
      "Gradient Descent Accuracy: 0.6933797909407665\n",
      "[ 1.09520325 -0.98836692  1.02094254 ...  2.88590674 -0.18955061\n",
      " -0.557409  ]\n"
     ]
    }
   ],
   "source": [
    "DPGD_results = []\n",
    "#for comparison, ive included calls with the same iterations\n",
    "theta = noisy_gradient_descent(1, .2, 1e-5)\n",
    "print(\"DP Gradient Descent Accuracy: \" + str(accuracy(theta)))\n",
    "DPGD_results.append(accuracy(theta))\n",
    "print(theta)\n",
    "\n",
    "#10 iterations\n",
    "theta = noisy_gradient_descent(10, 1.1, 1e-5)\n",
    "print(\"DP Gradient Descent Accuracy: \" + str(accuracy(theta)))\n",
    "DPGD_results.append(accuracy(theta))\n",
    "print(theta)\n",
    "\n",
    "#20 iterations\n",
    "theta = noisy_gradient_descent(20, 2.1, 1e-5)\n",
    "DPGD_results.append(accuracy(theta))\n",
    "\n",
    "\n",
    "#30 iterations\n",
    "theta = noisy_gradient_descent(30, 3.1, 1e-5)\n",
    "DPGD_results.append(accuracy(theta))\n",
    "\n",
    "\n",
    "theta = noisy_gradient_descent(60, 6.1, 1e-5)\n",
    "print(\"Gradient Descent Accuracy: \" + str(accuracy(theta)))\n",
    "DPGD_results.append(accuracy(theta))\n",
    "print(theta)"
   ]
  },
  {
   "cell_type": "code",
   "execution_count": 15,
   "metadata": {},
   "outputs": [
    {
     "data": {
      "text/html": [
       "<div>\n",
       "<style scoped>\n",
       "    .dataframe tbody tr th:only-of-type {\n",
       "        vertical-align: middle;\n",
       "    }\n",
       "\n",
       "    .dataframe tbody tr th {\n",
       "        vertical-align: top;\n",
       "    }\n",
       "\n",
       "    .dataframe thead th {\n",
       "        text-align: right;\n",
       "    }\n",
       "</style>\n",
       "<table border=\"1\" class=\"dataframe\">\n",
       "  <thead>\n",
       "    <tr style=\"text-align: right;\">\n",
       "      <th></th>\n",
       "      <th>Predicted Normal</th>\n",
       "      <th>Predicted Spam</th>\n",
       "    </tr>\n",
       "  </thead>\n",
       "  <tbody>\n",
       "    <tr>\n",
       "      <th>True Normal</th>\n",
       "      <td>67</td>\n",
       "      <td>63</td>\n",
       "    </tr>\n",
       "    <tr>\n",
       "      <th>True Spam</th>\n",
       "      <td>25</td>\n",
       "      <td>132</td>\n",
       "    </tr>\n",
       "  </tbody>\n",
       "</table>\n",
       "</div>"
      ],
      "text/plain": [
       "             Predicted Normal  Predicted Spam\n",
       "True Normal                67              63\n",
       "True Spam                  25             132"
      ]
     },
     "execution_count": 15,
     "metadata": {},
     "output_type": "execute_result"
    }
   ],
   "source": [
    "y_pred = predict(X_test, theta)\n",
    "\n",
    "conf_mat = confusion_matrix(y_test, y_pred)\n",
    "conf_mat_frame = pd.DataFrame(data = conf_mat)\n",
    "conf_mat_frame.rename(columns={0:'Predicted Normal',1:'Predicted Spam'}, index={0:'True Normal',1:'True Spam'})"
   ]
  },
  {
   "cell_type": "code",
   "execution_count": 16,
   "metadata": {},
   "outputs": [
    {
     "data": {
      "image/png": "[encoded data removed]",
      "text/plain": [
       "<Figure size 432x288 with 1 Axes>"
      ]
     },
     "metadata": {
      "needs_background": "light"
     },
     "output_type": "display_data"
    }
   ],
   "source": [
    "#plot the results with updated final result, should show an improvement\n",
    "iterations = [1,10,20,30,60]\n",
    "plt.plot(iterations,GD_results)\n",
    "plt.plot(iterations,DPGD_results)\n",
    "plt.axis([1,60,.5,1])\n",
    "plt.ylabel('Accuracy')\n",
    "plt.xlabel('Iterations')\n",
    "plt.title('Accuracy of GD vs. DPGD with Increased Privacy Cost')\n",
    "plt.show()"
   ]
  },
  {
   "cell_type": "markdown",
   "metadata": {},
   "source": [
    "Raising the privacy cost improves results, accuracys mirror plain gradient descent."
   ]
  },
  {
   "cell_type": "markdown",
   "metadata": {},
   "source": [
    "Microsoft Stream Video : https://web.microsoftstream.com/video/9b8bb6db-1f6d-42ff-8fa5-dcb2d2f1a60b"
   ]
  }
 ],
 "metadata": {
  "kernelspec": {
   "display_name": "Python 3",
   "language": "python",
   "name": "python3"
  },
  "language_info": {
   "codemirror_mode": {
    "name": "ipython",
    "version": 3
   },
   "file_extension": ".py",
   "mimetype": "text/x-python",
   "name": "python",
   "nbconvert_exporter": "python",
   "pygments_lexer": "ipython3",
   "version": "3.8.3"
  }
 },
 "nbformat": 4,
 "nbformat_minor": 4
}
